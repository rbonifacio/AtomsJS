{
 "cells": [
  {
   "cell_type": "code",
   "execution_count": null,
   "metadata": {},
   "outputs": [],
   "source": [
    "import os\n",
    "import subprocess\n",
    "import pandas as pd\n",
    "import csv\n",
    "import numpy as np"
   ]
  },
  {
   "cell_type": "code",
   "execution_count": null,
   "metadata": {},
   "outputs": [],
   "source": [
    "# You need to create the folder structure below within a local folder, before running this notebook.\n",
    "\n",
    "#-Main Folder. e.g C:\\atoms\n",
    " # -repositories  (Folder with the GitHub repositories being analyzed e.g C:\\atoms\\repositories)\n",
    " # -clodeql-cli (Folder with the codeql client. e.g C:\\atoms\\clodeql-cli)\n",
    " # -results (The folder where the results will be saved  e.g C:\\atoms\\results)\n",
    " # -queries (The CodeQL queries being performed. e.g C:\\atoms\\queries)\n",
    " # -codeql-repo (Folder with the codeql repo. e.g C:\\atoms\\clodeql-repo)\n",
    "     \n",
    "#Match the variable below with your main folder\n",
    "main_folder = ''\n",
    "\n",
    "folder_repos = main_folder + 'repositories\\\\'\n",
    "folder_codeqlcli = main_folder + 'codeql-cli\\\\'\n",
    "folder_results = main_folder + 'results\\\\'\n",
    "folder_queries = main_folder + 'queries\\\\'\n"
   ]
  },
  {
   "cell_type": "code",
   "execution_count": null,
   "metadata": {},
   "outputs": [],
   "source": [
    "def get_last_commit(folder):\n",
    "    p = subprocess.Popen(['git', 'rev-parse', 'HEAD' ], stdout=subprocess.PIPE, stderr=subprocess.STDOUT, cwd=folder)\n",
    "    stdout,stderr = p.communicate()\n",
    "    return stdout.decode(\"utf-8\").replace('\\n','')\n",
    "        \n",
    "    \n",
    "    "
   ]
  },
  {
   "cell_type": "code",
   "execution_count": null,
   "metadata": {},
   "outputs": [],
   "source": [
    "queries = os.listdir(folder_queries)"
   ]
  },
  {
   "cell_type": "code",
   "execution_count": null,
   "metadata": {},
   "outputs": [],
   "source": [
    "folders = os.listdir(folder_repos)\n",
    "for f in folders:\n",
    "    print(folder_repos + f)\n",
    "    \n",
    "    p = subprocess.Popen([folder_codeqlcli + 'codeql.exe', 'database', 'create',  f + '-codeql-db', '--language=javascript', '--mode=brutal'], cwd=folder_repos + f, stdout=subprocess.PIPE, stderr=subprocess.STDOUT)\n",
    "    stdout,stderr = p.communicate()\n",
    "    #print(stderr)\n",
    "    p = subprocess.Popen([folder_codeqlcli + 'codeql.exe', 'database', 'upgrade',  f + '-codeql-db'], cwd=folder_repos + f, stdout=subprocess.PIPE, stderr=subprocess.STDOUT )\n",
    "    stdout,stderr = p.communicate()\n",
    "    \n",
    "    p.wait()\n",
    "    \n",
    "\n",
    "    "
   ]
  },
  {
   "cell_type": "code",
   "execution_count": null,
   "metadata": {},
   "outputs": [],
   "source": [
    "def executeQuery(query):\n",
    "    #global df_atoms\n",
    "    df_atoms = pd.DataFrame(columns=['full_name','atom','location','url'])\n",
    "    atom_name = query.replace('.ql','')\n",
    "    atom_name = atom_name.replace('Select','')\n",
    "    for f in folders:\n",
    "        path =  folder_repos + f\n",
    "        print('executing query ' + atom_name + ' on '+ folder_repos + f)\n",
    "        p0 = subprocess.Popen(['rm', f + '.bqrs'], stdout=subprocess.PIPE, stderr=subprocess.STDOUT, cwd=folder_repos + f)\n",
    "        stdout,stderr = p0.communicate()\n",
    "        \n",
    "        p = subprocess.Popen([folder_codeqlcli + 'codeql.exe', 'query', 'run', '--output',  path + f + '.bqrs', '-d', f + '-codeql-db', folder_queries + query ], stdout=subprocess.PIPE, stderr=subprocess.STDOUT, cwd=folder_repos + f)\n",
    "        stdout,stderr = p.communicate()\n",
    "        p2 = subprocess.Popen([folder_codeqlcli + 'codeql.exe', 'bqrs', 'decode', path + f + '.bqrs', '--no-titles', '--format=csv', '--output', f + '.csv' ], stdout=subprocess.PIPE, stderr=subprocess.STDOUT, cwd=folder_repos + f)\n",
    "        stdout,stderr = p2.communicate()\n",
    "        try:\n",
    "            df_temp = pd.read_csv(folder_repos + f + '\\\\' + f + '.csv',delimiter=',',header=None)\n",
    "        except:\n",
    "            print('atom of confusion not found in this repository' )\n",
    "        else:\n",
    "            \n",
    "            df_temp.columns = ['atom','location','url']\n",
    "            df_temp.insert(0, 'atom_name', atom_name)\n",
    "            full_name = f.replace('_','/')\n",
    "            \n",
    "            df_temp['url'] = df_temp['url'].str.replace(folder_repos + f, 'https://github.com/' + full_name + '/blob/' + get_last_commit(folder_repos + f) , regex=False)\n",
    "            \n",
    "            df_temp.insert(1, \"full_name\", full_name) \n",
    "            df_atoms = df_atoms.append(df_temp)\n",
    "        print(stdout)\n",
    "        \n",
    "    print('we found ' + str(len(df_atoms)) + ' atoms')     \n",
    "    return df_atoms"
   ]
  },
  {
   "cell_type": "code",
   "execution_count": null,
   "metadata": {},
   "outputs": [],
   "source": [
    "for query in queries:\n",
    "    df = executeQuery(query)\n",
    "    csv_file = query.replace('.ql','.csv')\n",
    "    csv_file = csv_file.replace('Select','')\n",
    "    df['url'] = df['url'] + '#L' + df['location'].map(str)\n",
    "    df.to_csv(folder_results + csv_file ,index=None,quotechar='\"',quoting=csv.QUOTE_ALL)\n",
    "    "
   ]
  },
  {
   "cell_type": "code",
   "execution_count": null,
   "metadata": {},
   "outputs": [],
   "source": []
  }
 ],
 "metadata": {
  "kernelspec": {
   "display_name": "Python 3",
   "language": "python",
   "name": "python3"
  },
  "language_info": {
   "codemirror_mode": {
    "name": "ipython",
    "version": 3
   },
   "file_extension": ".py",
   "mimetype": "text/x-python",
   "name": "python",
   "nbconvert_exporter": "python",
   "pygments_lexer": "ipython3",
   "version": "3.7.0"
  }
 },
 "nbformat": 4,
 "nbformat_minor": 2
}
